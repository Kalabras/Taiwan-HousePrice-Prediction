{
  "nbformat": 4,
  "nbformat_minor": 0,
  "metadata": {
    "colab": {
      "provenance": [],
      "authorship_tag": "ABX9TyN7Sq1+e1NDG/uvZuENBnrG",
      "include_colab_link": true
    },
    "kernelspec": {
      "name": "python3",
      "display_name": "Python 3"
    },
    "language_info": {
      "name": "python"
    }
  },
  "cells": [
    {
      "cell_type": "markdown",
      "metadata": {
        "id": "view-in-github",
        "colab_type": "text"
      },
      "source": [
        "<a href=\"https://colab.research.google.com/github/Kalabras/Taiwan-HousePrice-Prediction/blob/main/Taiwan_House_Prediction.ipynb\" target=\"_parent\"><img src=\"https://colab.research.google.com/assets/colab-badge.svg\" alt=\"Open In Colab\"/></a>"
      ]
    },
    {
      "cell_type": "markdown",
      "source": [
        "# **Modele pour predicter les prix des maisons en Taiwan**\n",
        "par Abderrahmen Jbeli et Wala Khedri"
      ],
      "metadata": {
        "id": "X_ExDxZy50h0"
      }
    },
    {
      "cell_type": "markdown",
      "source": [
        "Etape 1: Importation des librairies neccesaire:\n",
        "\n",
        "> Les librairies utilisé:\n",
        ">>_Pandas: Librairy populaire pour travailler avec les donneés.\n",
        ">>\n",
        ">>_Numpy: Library populaire qui contient des fonctions mathématique avancé pour travailler avec les donneés.\n",
        ">>\n",
        ">>_Matplotlib: Pour Visualiser les donneés.\n",
        ">>\n",
        ">>_SKLearn: Library pour travailler dans l'intelligance artificielle, poccéde plusieur outils trés important que nous utilisons comme *train_test_split* , *StandradScaler* , *LinearRegression*, *mean_squared_error* , *r2_score* et plusieur autre.\n",
        ">>\n",
        ">>_Joblib: Library utilisé pour sauvegarder et charger les modéles"
      ],
      "metadata": {
        "id": "alnCR0yh6Exx"
      }
    },
    {
      "cell_type": "code",
      "execution_count": 6,
      "metadata": {
        "id": "6x_4KtVdj_xa"
      },
      "outputs": [],
      "source": [
        "import pandas as pd\n",
        "import matplotlib.pyplot as plt\n",
        "import numpy as np\n",
        "from sklearn.model_selection import train_test_split\n",
        "from sklearn.preprocessing import StandardScaler\n",
        "from sklearn.linear_model import LinearRegression\n",
        "from sklearn.metrics import mean_squared_error, r2_score\n",
        "from joblib import dump,load"
      ]
    },
    {
      "cell_type": "markdown",
      "source": [
        "Etape 2: Charger les donneé (data)\n",
        "\n",
        "On charge les donneé de type *.csv* avec la fonction *read_csv* de Pandas"
      ],
      "metadata": {
        "id": "VgMiLV7m8kzv"
      }
    },
    {
      "cell_type": "code",
      "source": [
        "tai_hou = pd.read_csv(\"/content/maisons_taiwan.csv\") # On utilise la fonction read_csv() du library Pandas pour lire un fichier .csv qui contient nos donneés"
      ],
      "metadata": {
        "id": "NkpWUWgtlStf"
      },
      "execution_count": 7,
      "outputs": []
    },
    {
      "cell_type": "code",
      "source": [
        "tai_hou.describe() # on utilise describe pour avoir des information sur nos donneés"
      ],
      "metadata": {
        "colab": {
          "base_uri": "https://localhost:8080/",
          "height": 300
        },
        "id": "PDqP7oHOleQj",
        "outputId": "708fda8d-dbe4-4245-e817-948839931cfd"
      },
      "execution_count": 8,
      "outputs": [
        {
          "output_type": "execute_result",
          "data": {
            "text/plain": [
              "              date         age        metro    epicerie    latitude  \\\n",
              "count   414.000000  414.000000   414.000000  414.000000  414.000000   \n",
              "mean   2013.148971   17.712560  1083.885689    4.094203   24.969030   \n",
              "std       0.281967   11.392485  1262.109595    2.945562    0.012410   \n",
              "min    2012.667000    0.000000    23.382840    0.000000   24.932070   \n",
              "25%    2012.917000    9.025000   289.324800    1.000000   24.963000   \n",
              "50%    2013.167000   16.100000   492.231300    4.000000   24.971100   \n",
              "75%    2013.417000   28.150000  1454.279000    6.000000   24.977455   \n",
              "max    2013.583000   43.800000  6488.021000   10.000000   25.014590   \n",
              "\n",
              "        longitude        prix  \n",
              "count  414.000000  414.000000  \n",
              "mean   121.533361   37.980193  \n",
              "std      0.015347   13.606488  \n",
              "min    121.473530    7.600000  \n",
              "25%    121.528085   27.700000  \n",
              "50%    121.538630   38.450000  \n",
              "75%    121.543305   46.600000  \n",
              "max    121.566270  117.500000  "
            ],
            "text/html": [
              "\n",
              "  <div id=\"df-8f11fdb4-9610-45d9-ab4b-c6edd283d4b6\">\n",
              "    <div class=\"colab-df-container\">\n",
              "      <div>\n",
              "<style scoped>\n",
              "    .dataframe tbody tr th:only-of-type {\n",
              "        vertical-align: middle;\n",
              "    }\n",
              "\n",
              "    .dataframe tbody tr th {\n",
              "        vertical-align: top;\n",
              "    }\n",
              "\n",
              "    .dataframe thead th {\n",
              "        text-align: right;\n",
              "    }\n",
              "</style>\n",
              "<table border=\"1\" class=\"dataframe\">\n",
              "  <thead>\n",
              "    <tr style=\"text-align: right;\">\n",
              "      <th></th>\n",
              "      <th>date</th>\n",
              "      <th>age</th>\n",
              "      <th>metro</th>\n",
              "      <th>epicerie</th>\n",
              "      <th>latitude</th>\n",
              "      <th>longitude</th>\n",
              "      <th>prix</th>\n",
              "    </tr>\n",
              "  </thead>\n",
              "  <tbody>\n",
              "    <tr>\n",
              "      <th>count</th>\n",
              "      <td>414.000000</td>\n",
              "      <td>414.000000</td>\n",
              "      <td>414.000000</td>\n",
              "      <td>414.000000</td>\n",
              "      <td>414.000000</td>\n",
              "      <td>414.000000</td>\n",
              "      <td>414.000000</td>\n",
              "    </tr>\n",
              "    <tr>\n",
              "      <th>mean</th>\n",
              "      <td>2013.148971</td>\n",
              "      <td>17.712560</td>\n",
              "      <td>1083.885689</td>\n",
              "      <td>4.094203</td>\n",
              "      <td>24.969030</td>\n",
              "      <td>121.533361</td>\n",
              "      <td>37.980193</td>\n",
              "    </tr>\n",
              "    <tr>\n",
              "      <th>std</th>\n",
              "      <td>0.281967</td>\n",
              "      <td>11.392485</td>\n",
              "      <td>1262.109595</td>\n",
              "      <td>2.945562</td>\n",
              "      <td>0.012410</td>\n",
              "      <td>0.015347</td>\n",
              "      <td>13.606488</td>\n",
              "    </tr>\n",
              "    <tr>\n",
              "      <th>min</th>\n",
              "      <td>2012.667000</td>\n",
              "      <td>0.000000</td>\n",
              "      <td>23.382840</td>\n",
              "      <td>0.000000</td>\n",
              "      <td>24.932070</td>\n",
              "      <td>121.473530</td>\n",
              "      <td>7.600000</td>\n",
              "    </tr>\n",
              "    <tr>\n",
              "      <th>25%</th>\n",
              "      <td>2012.917000</td>\n",
              "      <td>9.025000</td>\n",
              "      <td>289.324800</td>\n",
              "      <td>1.000000</td>\n",
              "      <td>24.963000</td>\n",
              "      <td>121.528085</td>\n",
              "      <td>27.700000</td>\n",
              "    </tr>\n",
              "    <tr>\n",
              "      <th>50%</th>\n",
              "      <td>2013.167000</td>\n",
              "      <td>16.100000</td>\n",
              "      <td>492.231300</td>\n",
              "      <td>4.000000</td>\n",
              "      <td>24.971100</td>\n",
              "      <td>121.538630</td>\n",
              "      <td>38.450000</td>\n",
              "    </tr>\n",
              "    <tr>\n",
              "      <th>75%</th>\n",
              "      <td>2013.417000</td>\n",
              "      <td>28.150000</td>\n",
              "      <td>1454.279000</td>\n",
              "      <td>6.000000</td>\n",
              "      <td>24.977455</td>\n",
              "      <td>121.543305</td>\n",
              "      <td>46.600000</td>\n",
              "    </tr>\n",
              "    <tr>\n",
              "      <th>max</th>\n",
              "      <td>2013.583000</td>\n",
              "      <td>43.800000</td>\n",
              "      <td>6488.021000</td>\n",
              "      <td>10.000000</td>\n",
              "      <td>25.014590</td>\n",
              "      <td>121.566270</td>\n",
              "      <td>117.500000</td>\n",
              "    </tr>\n",
              "  </tbody>\n",
              "</table>\n",
              "</div>\n",
              "      <button class=\"colab-df-convert\" onclick=\"convertToInteractive('df-8f11fdb4-9610-45d9-ab4b-c6edd283d4b6')\"\n",
              "              title=\"Convert this dataframe to an interactive table.\"\n",
              "              style=\"display:none;\">\n",
              "        \n",
              "  <svg xmlns=\"http://www.w3.org/2000/svg\" height=\"24px\"viewBox=\"0 0 24 24\"\n",
              "       width=\"24px\">\n",
              "    <path d=\"M0 0h24v24H0V0z\" fill=\"none\"/>\n",
              "    <path d=\"M18.56 5.44l.94 2.06.94-2.06 2.06-.94-2.06-.94-.94-2.06-.94 2.06-2.06.94zm-11 1L8.5 8.5l.94-2.06 2.06-.94-2.06-.94L8.5 2.5l-.94 2.06-2.06.94zm10 10l.94 2.06.94-2.06 2.06-.94-2.06-.94-.94-2.06-.94 2.06-2.06.94z\"/><path d=\"M17.41 7.96l-1.37-1.37c-.4-.4-.92-.59-1.43-.59-.52 0-1.04.2-1.43.59L10.3 9.45l-7.72 7.72c-.78.78-.78 2.05 0 2.83L4 21.41c.39.39.9.59 1.41.59.51 0 1.02-.2 1.41-.59l7.78-7.78 2.81-2.81c.8-.78.8-2.07 0-2.86zM5.41 20L4 18.59l7.72-7.72 1.47 1.35L5.41 20z\"/>\n",
              "  </svg>\n",
              "      </button>\n",
              "      \n",
              "  <style>\n",
              "    .colab-df-container {\n",
              "      display:flex;\n",
              "      flex-wrap:wrap;\n",
              "      gap: 12px;\n",
              "    }\n",
              "\n",
              "    .colab-df-convert {\n",
              "      background-color: #E8F0FE;\n",
              "      border: none;\n",
              "      border-radius: 50%;\n",
              "      cursor: pointer;\n",
              "      display: none;\n",
              "      fill: #1967D2;\n",
              "      height: 32px;\n",
              "      padding: 0 0 0 0;\n",
              "      width: 32px;\n",
              "    }\n",
              "\n",
              "    .colab-df-convert:hover {\n",
              "      background-color: #E2EBFA;\n",
              "      box-shadow: 0px 1px 2px rgba(60, 64, 67, 0.3), 0px 1px 3px 1px rgba(60, 64, 67, 0.15);\n",
              "      fill: #174EA6;\n",
              "    }\n",
              "\n",
              "    [theme=dark] .colab-df-convert {\n",
              "      background-color: #3B4455;\n",
              "      fill: #D2E3FC;\n",
              "    }\n",
              "\n",
              "    [theme=dark] .colab-df-convert:hover {\n",
              "      background-color: #434B5C;\n",
              "      box-shadow: 0px 1px 3px 1px rgba(0, 0, 0, 0.15);\n",
              "      filter: drop-shadow(0px 1px 2px rgba(0, 0, 0, 0.3));\n",
              "      fill: #FFFFFF;\n",
              "    }\n",
              "  </style>\n",
              "\n",
              "      <script>\n",
              "        const buttonEl =\n",
              "          document.querySelector('#df-8f11fdb4-9610-45d9-ab4b-c6edd283d4b6 button.colab-df-convert');\n",
              "        buttonEl.style.display =\n",
              "          google.colab.kernel.accessAllowed ? 'block' : 'none';\n",
              "\n",
              "        async function convertToInteractive(key) {\n",
              "          const element = document.querySelector('#df-8f11fdb4-9610-45d9-ab4b-c6edd283d4b6');\n",
              "          const dataTable =\n",
              "            await google.colab.kernel.invokeFunction('convertToInteractive',\n",
              "                                                     [key], {});\n",
              "          if (!dataTable) return;\n",
              "\n",
              "          const docLinkHtml = 'Like what you see? Visit the ' +\n",
              "            '<a target=\"_blank\" href=https://colab.research.google.com/notebooks/data_table.ipynb>data table notebook</a>'\n",
              "            + ' to learn more about interactive tables.';\n",
              "          element.innerHTML = '';\n",
              "          dataTable['output_type'] = 'display_data';\n",
              "          await google.colab.output.renderOutput(dataTable, element);\n",
              "          const docLink = document.createElement('div');\n",
              "          docLink.innerHTML = docLinkHtml;\n",
              "          element.appendChild(docLink);\n",
              "        }\n",
              "      </script>\n",
              "    </div>\n",
              "  </div>\n",
              "  "
            ]
          },
          "metadata": {},
          "execution_count": 8
        }
      ]
    },
    {
      "cell_type": "code",
      "source": [
        "tai_hou.head() # on utilise head() pour voir les 5 premiers lignes de nos donneés"
      ],
      "metadata": {
        "colab": {
          "base_uri": "https://localhost:8080/",
          "height": 206
        },
        "id": "nJJRm2B9l1au",
        "outputId": "29df06b1-fec5-4d7c-f53d-95db1527fb3c"
      },
      "execution_count": 9,
      "outputs": [
        {
          "output_type": "execute_result",
          "data": {
            "text/plain": [
              "       date   age      metro  epicerie  latitude  longitude  prix\n",
              "0  2012.917  32.0   84.87882        10  24.98298  121.54024  37.9\n",
              "1  2012.917  19.5  306.59470         9  24.98034  121.53951  42.2\n",
              "2  2013.583  13.3  561.98450         5  24.98746  121.54391  47.3\n",
              "3  2013.500  13.3  561.98450         5  24.98746  121.54391  54.8\n",
              "4  2012.833   5.0  390.56840         5  24.97937  121.54245  43.1"
            ],
            "text/html": [
              "\n",
              "  <div id=\"df-f6c9cbbf-0a20-490f-9006-1a8a99c2f4d1\">\n",
              "    <div class=\"colab-df-container\">\n",
              "      <div>\n",
              "<style scoped>\n",
              "    .dataframe tbody tr th:only-of-type {\n",
              "        vertical-align: middle;\n",
              "    }\n",
              "\n",
              "    .dataframe tbody tr th {\n",
              "        vertical-align: top;\n",
              "    }\n",
              "\n",
              "    .dataframe thead th {\n",
              "        text-align: right;\n",
              "    }\n",
              "</style>\n",
              "<table border=\"1\" class=\"dataframe\">\n",
              "  <thead>\n",
              "    <tr style=\"text-align: right;\">\n",
              "      <th></th>\n",
              "      <th>date</th>\n",
              "      <th>age</th>\n",
              "      <th>metro</th>\n",
              "      <th>epicerie</th>\n",
              "      <th>latitude</th>\n",
              "      <th>longitude</th>\n",
              "      <th>prix</th>\n",
              "    </tr>\n",
              "  </thead>\n",
              "  <tbody>\n",
              "    <tr>\n",
              "      <th>0</th>\n",
              "      <td>2012.917</td>\n",
              "      <td>32.0</td>\n",
              "      <td>84.87882</td>\n",
              "      <td>10</td>\n",
              "      <td>24.98298</td>\n",
              "      <td>121.54024</td>\n",
              "      <td>37.9</td>\n",
              "    </tr>\n",
              "    <tr>\n",
              "      <th>1</th>\n",
              "      <td>2012.917</td>\n",
              "      <td>19.5</td>\n",
              "      <td>306.59470</td>\n",
              "      <td>9</td>\n",
              "      <td>24.98034</td>\n",
              "      <td>121.53951</td>\n",
              "      <td>42.2</td>\n",
              "    </tr>\n",
              "    <tr>\n",
              "      <th>2</th>\n",
              "      <td>2013.583</td>\n",
              "      <td>13.3</td>\n",
              "      <td>561.98450</td>\n",
              "      <td>5</td>\n",
              "      <td>24.98746</td>\n",
              "      <td>121.54391</td>\n",
              "      <td>47.3</td>\n",
              "    </tr>\n",
              "    <tr>\n",
              "      <th>3</th>\n",
              "      <td>2013.500</td>\n",
              "      <td>13.3</td>\n",
              "      <td>561.98450</td>\n",
              "      <td>5</td>\n",
              "      <td>24.98746</td>\n",
              "      <td>121.54391</td>\n",
              "      <td>54.8</td>\n",
              "    </tr>\n",
              "    <tr>\n",
              "      <th>4</th>\n",
              "      <td>2012.833</td>\n",
              "      <td>5.0</td>\n",
              "      <td>390.56840</td>\n",
              "      <td>5</td>\n",
              "      <td>24.97937</td>\n",
              "      <td>121.54245</td>\n",
              "      <td>43.1</td>\n",
              "    </tr>\n",
              "  </tbody>\n",
              "</table>\n",
              "</div>\n",
              "      <button class=\"colab-df-convert\" onclick=\"convertToInteractive('df-f6c9cbbf-0a20-490f-9006-1a8a99c2f4d1')\"\n",
              "              title=\"Convert this dataframe to an interactive table.\"\n",
              "              style=\"display:none;\">\n",
              "        \n",
              "  <svg xmlns=\"http://www.w3.org/2000/svg\" height=\"24px\"viewBox=\"0 0 24 24\"\n",
              "       width=\"24px\">\n",
              "    <path d=\"M0 0h24v24H0V0z\" fill=\"none\"/>\n",
              "    <path d=\"M18.56 5.44l.94 2.06.94-2.06 2.06-.94-2.06-.94-.94-2.06-.94 2.06-2.06.94zm-11 1L8.5 8.5l.94-2.06 2.06-.94-2.06-.94L8.5 2.5l-.94 2.06-2.06.94zm10 10l.94 2.06.94-2.06 2.06-.94-2.06-.94-.94-2.06-.94 2.06-2.06.94z\"/><path d=\"M17.41 7.96l-1.37-1.37c-.4-.4-.92-.59-1.43-.59-.52 0-1.04.2-1.43.59L10.3 9.45l-7.72 7.72c-.78.78-.78 2.05 0 2.83L4 21.41c.39.39.9.59 1.41.59.51 0 1.02-.2 1.41-.59l7.78-7.78 2.81-2.81c.8-.78.8-2.07 0-2.86zM5.41 20L4 18.59l7.72-7.72 1.47 1.35L5.41 20z\"/>\n",
              "  </svg>\n",
              "      </button>\n",
              "      \n",
              "  <style>\n",
              "    .colab-df-container {\n",
              "      display:flex;\n",
              "      flex-wrap:wrap;\n",
              "      gap: 12px;\n",
              "    }\n",
              "\n",
              "    .colab-df-convert {\n",
              "      background-color: #E8F0FE;\n",
              "      border: none;\n",
              "      border-radius: 50%;\n",
              "      cursor: pointer;\n",
              "      display: none;\n",
              "      fill: #1967D2;\n",
              "      height: 32px;\n",
              "      padding: 0 0 0 0;\n",
              "      width: 32px;\n",
              "    }\n",
              "\n",
              "    .colab-df-convert:hover {\n",
              "      background-color: #E2EBFA;\n",
              "      box-shadow: 0px 1px 2px rgba(60, 64, 67, 0.3), 0px 1px 3px 1px rgba(60, 64, 67, 0.15);\n",
              "      fill: #174EA6;\n",
              "    }\n",
              "\n",
              "    [theme=dark] .colab-df-convert {\n",
              "      background-color: #3B4455;\n",
              "      fill: #D2E3FC;\n",
              "    }\n",
              "\n",
              "    [theme=dark] .colab-df-convert:hover {\n",
              "      background-color: #434B5C;\n",
              "      box-shadow: 0px 1px 3px 1px rgba(0, 0, 0, 0.15);\n",
              "      filter: drop-shadow(0px 1px 2px rgba(0, 0, 0, 0.3));\n",
              "      fill: #FFFFFF;\n",
              "    }\n",
              "  </style>\n",
              "\n",
              "      <script>\n",
              "        const buttonEl =\n",
              "          document.querySelector('#df-f6c9cbbf-0a20-490f-9006-1a8a99c2f4d1 button.colab-df-convert');\n",
              "        buttonEl.style.display =\n",
              "          google.colab.kernel.accessAllowed ? 'block' : 'none';\n",
              "\n",
              "        async function convertToInteractive(key) {\n",
              "          const element = document.querySelector('#df-f6c9cbbf-0a20-490f-9006-1a8a99c2f4d1');\n",
              "          const dataTable =\n",
              "            await google.colab.kernel.invokeFunction('convertToInteractive',\n",
              "                                                     [key], {});\n",
              "          if (!dataTable) return;\n",
              "\n",
              "          const docLinkHtml = 'Like what you see? Visit the ' +\n",
              "            '<a target=\"_blank\" href=https://colab.research.google.com/notebooks/data_table.ipynb>data table notebook</a>'\n",
              "            + ' to learn more about interactive tables.';\n",
              "          element.innerHTML = '';\n",
              "          dataTable['output_type'] = 'display_data';\n",
              "          await google.colab.output.renderOutput(dataTable, element);\n",
              "          const docLink = document.createElement('div');\n",
              "          docLink.innerHTML = docLinkHtml;\n",
              "          element.appendChild(docLink);\n",
              "        }\n",
              "      </script>\n",
              "    </div>\n",
              "  </div>\n",
              "  "
            ]
          },
          "metadata": {},
          "execution_count": 9
        }
      ]
    },
    {
      "cell_type": "code",
      "source": [
        "tai_hou.shape # shape retourne combien de ligne et colonne existe dans les donneé"
      ],
      "metadata": {
        "colab": {
          "base_uri": "https://localhost:8080/"
        },
        "id": "poU07YfT9Ra2",
        "outputId": "2445df14-998d-4394-b8d8-0804615f2f15"
      },
      "execution_count": 10,
      "outputs": [
        {
          "output_type": "execute_result",
          "data": {
            "text/plain": [
              "(414, 7)"
            ]
          },
          "metadata": {},
          "execution_count": 10
        }
      ]
    },
    {
      "cell_type": "code",
      "source": [
        "tai_hou.columns # retourne les noms des colonnes dans les donneés"
      ],
      "metadata": {
        "colab": {
          "base_uri": "https://localhost:8080/"
        },
        "id": "-pJHXghl9VNS",
        "outputId": "b14735d8-448d-4b48-872b-a8846b3da452"
      },
      "execution_count": 11,
      "outputs": [
        {
          "output_type": "execute_result",
          "data": {
            "text/plain": [
              "Index(['date', 'age', 'metro', 'epicerie', 'latitude', 'longitude', 'prix'], dtype='object')"
            ]
          },
          "metadata": {},
          "execution_count": 11
        }
      ]
    },
    {
      "cell_type": "code",
      "source": [
        "tai_hou.isnull().sum() # retourne le nombre des lignes vides dans chaque colonne"
      ],
      "metadata": {
        "colab": {
          "base_uri": "https://localhost:8080/"
        },
        "id": "NCliyHwB9YLE",
        "outputId": "efccd21f-fa53-4532-a95e-e8c3874fc2c2"
      },
      "execution_count": 12,
      "outputs": [
        {
          "output_type": "execute_result",
          "data": {
            "text/plain": [
              "date         0\n",
              "age          0\n",
              "metro        0\n",
              "epicerie     0\n",
              "latitude     0\n",
              "longitude    0\n",
              "prix         0\n",
              "dtype: int64"
            ]
          },
          "metadata": {},
          "execution_count": 12
        }
      ]
    },
    {
      "cell_type": "markdown",
      "source": [
        "Etape 3: Nettoyer notre data:\n",
        "\n",
        "Il faut nettoyer notre data de tous imperfections comme les lignes ou colonnes vides ou les colonnes qui siginifie rien.\n",
        "\n",
        "Dans notre example on efface la colonne date car on ne va pas la utilisé"
      ],
      "metadata": {
        "id": "KWWcE8tqC_j6"
      }
    },
    {
      "cell_type": "code",
      "source": [
        "tai_hou.drop(columns=\"date\",inplace=True) # Effacer la colonne \"date\""
      ],
      "metadata": {
        "id": "uk04TdWJl3iY"
      },
      "execution_count": 13,
      "outputs": []
    },
    {
      "cell_type": "markdown",
      "source": [
        "Etape 5: On divise notre data sur 4 espaces geographique\n",
        "\n",
        "On peut faire ca en translater les cordonner de longitude et latitude en binaire, on calcule le moyenne des longitude et le moyenne des latitude et assigner 1 pour les cordonner supérieur au moyenne et 0 pour les cordonner inférieur au moyenne"
      ],
      "metadata": {
        "id": "KxHPkNmqEPtR"
      }
    },
    {
      "cell_type": "code",
      "source": [
        "def binariser(data, column): # declaration de fonction \"binariser\"\n",
        "  moy = data[column].mean() # calcule du moyenne\n",
        "  print(moy)\n",
        "  data[column] = (data[column]>moy).astype(float) # assigner 1 et 0 par comparaison de chaque valeur avec le moyenne"
      ],
      "metadata": {
        "id": "IhG7K-RToPoW"
      },
      "execution_count": 14,
      "outputs": []
    },
    {
      "cell_type": "code",
      "source": [
        "binariser(tai_hou,\"longitude\") # binariser les valeurs de longitude\n",
        "binariser(tai_hou, \"latitude\") # binariser les valeurs de latitude"
      ],
      "metadata": {
        "colab": {
          "base_uri": "https://localhost:8080/"
        },
        "id": "NHsAHE7OppS1",
        "outputId": "7cb50b25-8320-40f7-cd99-f24a0d68bd3c"
      },
      "execution_count": 15,
      "outputs": [
        {
          "output_type": "stream",
          "name": "stdout",
          "text": [
            "121.53336108695655\n",
            "24.969030072463767\n"
          ]
        }
      ]
    },
    {
      "cell_type": "code",
      "source": [
        "tai_hou.head()"
      ],
      "metadata": {
        "colab": {
          "base_uri": "https://localhost:8080/",
          "height": 206
        },
        "id": "UvQhOqvFp8tF",
        "outputId": "44fba3ca-5c42-4883-e73a-7d069448e14d"
      },
      "execution_count": 16,
      "outputs": [
        {
          "output_type": "execute_result",
          "data": {
            "text/plain": [
              "    age      metro  epicerie  latitude  longitude  prix\n",
              "0  32.0   84.87882        10       1.0        1.0  37.9\n",
              "1  19.5  306.59470         9       1.0        1.0  42.2\n",
              "2  13.3  561.98450         5       1.0        1.0  47.3\n",
              "3  13.3  561.98450         5       1.0        1.0  54.8\n",
              "4   5.0  390.56840         5       1.0        1.0  43.1"
            ],
            "text/html": [
              "\n",
              "  <div id=\"df-74016647-d69d-4ac1-b931-0b629527db39\">\n",
              "    <div class=\"colab-df-container\">\n",
              "      <div>\n",
              "<style scoped>\n",
              "    .dataframe tbody tr th:only-of-type {\n",
              "        vertical-align: middle;\n",
              "    }\n",
              "\n",
              "    .dataframe tbody tr th {\n",
              "        vertical-align: top;\n",
              "    }\n",
              "\n",
              "    .dataframe thead th {\n",
              "        text-align: right;\n",
              "    }\n",
              "</style>\n",
              "<table border=\"1\" class=\"dataframe\">\n",
              "  <thead>\n",
              "    <tr style=\"text-align: right;\">\n",
              "      <th></th>\n",
              "      <th>age</th>\n",
              "      <th>metro</th>\n",
              "      <th>epicerie</th>\n",
              "      <th>latitude</th>\n",
              "      <th>longitude</th>\n",
              "      <th>prix</th>\n",
              "    </tr>\n",
              "  </thead>\n",
              "  <tbody>\n",
              "    <tr>\n",
              "      <th>0</th>\n",
              "      <td>32.0</td>\n",
              "      <td>84.87882</td>\n",
              "      <td>10</td>\n",
              "      <td>1.0</td>\n",
              "      <td>1.0</td>\n",
              "      <td>37.9</td>\n",
              "    </tr>\n",
              "    <tr>\n",
              "      <th>1</th>\n",
              "      <td>19.5</td>\n",
              "      <td>306.59470</td>\n",
              "      <td>9</td>\n",
              "      <td>1.0</td>\n",
              "      <td>1.0</td>\n",
              "      <td>42.2</td>\n",
              "    </tr>\n",
              "    <tr>\n",
              "      <th>2</th>\n",
              "      <td>13.3</td>\n",
              "      <td>561.98450</td>\n",
              "      <td>5</td>\n",
              "      <td>1.0</td>\n",
              "      <td>1.0</td>\n",
              "      <td>47.3</td>\n",
              "    </tr>\n",
              "    <tr>\n",
              "      <th>3</th>\n",
              "      <td>13.3</td>\n",
              "      <td>561.98450</td>\n",
              "      <td>5</td>\n",
              "      <td>1.0</td>\n",
              "      <td>1.0</td>\n",
              "      <td>54.8</td>\n",
              "    </tr>\n",
              "    <tr>\n",
              "      <th>4</th>\n",
              "      <td>5.0</td>\n",
              "      <td>390.56840</td>\n",
              "      <td>5</td>\n",
              "      <td>1.0</td>\n",
              "      <td>1.0</td>\n",
              "      <td>43.1</td>\n",
              "    </tr>\n",
              "  </tbody>\n",
              "</table>\n",
              "</div>\n",
              "      <button class=\"colab-df-convert\" onclick=\"convertToInteractive('df-74016647-d69d-4ac1-b931-0b629527db39')\"\n",
              "              title=\"Convert this dataframe to an interactive table.\"\n",
              "              style=\"display:none;\">\n",
              "        \n",
              "  <svg xmlns=\"http://www.w3.org/2000/svg\" height=\"24px\"viewBox=\"0 0 24 24\"\n",
              "       width=\"24px\">\n",
              "    <path d=\"M0 0h24v24H0V0z\" fill=\"none\"/>\n",
              "    <path d=\"M18.56 5.44l.94 2.06.94-2.06 2.06-.94-2.06-.94-.94-2.06-.94 2.06-2.06.94zm-11 1L8.5 8.5l.94-2.06 2.06-.94-2.06-.94L8.5 2.5l-.94 2.06-2.06.94zm10 10l.94 2.06.94-2.06 2.06-.94-2.06-.94-.94-2.06-.94 2.06-2.06.94z\"/><path d=\"M17.41 7.96l-1.37-1.37c-.4-.4-.92-.59-1.43-.59-.52 0-1.04.2-1.43.59L10.3 9.45l-7.72 7.72c-.78.78-.78 2.05 0 2.83L4 21.41c.39.39.9.59 1.41.59.51 0 1.02-.2 1.41-.59l7.78-7.78 2.81-2.81c.8-.78.8-2.07 0-2.86zM5.41 20L4 18.59l7.72-7.72 1.47 1.35L5.41 20z\"/>\n",
              "  </svg>\n",
              "      </button>\n",
              "      \n",
              "  <style>\n",
              "    .colab-df-container {\n",
              "      display:flex;\n",
              "      flex-wrap:wrap;\n",
              "      gap: 12px;\n",
              "    }\n",
              "\n",
              "    .colab-df-convert {\n",
              "      background-color: #E8F0FE;\n",
              "      border: none;\n",
              "      border-radius: 50%;\n",
              "      cursor: pointer;\n",
              "      display: none;\n",
              "      fill: #1967D2;\n",
              "      height: 32px;\n",
              "      padding: 0 0 0 0;\n",
              "      width: 32px;\n",
              "    }\n",
              "\n",
              "    .colab-df-convert:hover {\n",
              "      background-color: #E2EBFA;\n",
              "      box-shadow: 0px 1px 2px rgba(60, 64, 67, 0.3), 0px 1px 3px 1px rgba(60, 64, 67, 0.15);\n",
              "      fill: #174EA6;\n",
              "    }\n",
              "\n",
              "    [theme=dark] .colab-df-convert {\n",
              "      background-color: #3B4455;\n",
              "      fill: #D2E3FC;\n",
              "    }\n",
              "\n",
              "    [theme=dark] .colab-df-convert:hover {\n",
              "      background-color: #434B5C;\n",
              "      box-shadow: 0px 1px 3px 1px rgba(0, 0, 0, 0.15);\n",
              "      filter: drop-shadow(0px 1px 2px rgba(0, 0, 0, 0.3));\n",
              "      fill: #FFFFFF;\n",
              "    }\n",
              "  </style>\n",
              "\n",
              "      <script>\n",
              "        const buttonEl =\n",
              "          document.querySelector('#df-74016647-d69d-4ac1-b931-0b629527db39 button.colab-df-convert');\n",
              "        buttonEl.style.display =\n",
              "          google.colab.kernel.accessAllowed ? 'block' : 'none';\n",
              "\n",
              "        async function convertToInteractive(key) {\n",
              "          const element = document.querySelector('#df-74016647-d69d-4ac1-b931-0b629527db39');\n",
              "          const dataTable =\n",
              "            await google.colab.kernel.invokeFunction('convertToInteractive',\n",
              "                                                     [key], {});\n",
              "          if (!dataTable) return;\n",
              "\n",
              "          const docLinkHtml = 'Like what you see? Visit the ' +\n",
              "            '<a target=\"_blank\" href=https://colab.research.google.com/notebooks/data_table.ipynb>data table notebook</a>'\n",
              "            + ' to learn more about interactive tables.';\n",
              "          element.innerHTML = '';\n",
              "          dataTable['output_type'] = 'display_data';\n",
              "          await google.colab.output.renderOutput(dataTable, element);\n",
              "          const docLink = document.createElement('div');\n",
              "          docLink.innerHTML = docLinkHtml;\n",
              "          element.appendChild(docLink);\n",
              "        }\n",
              "      </script>\n",
              "    </div>\n",
              "  </div>\n",
              "  "
            ]
          },
          "metadata": {},
          "execution_count": 16
        }
      ]
    },
    {
      "cell_type": "markdown",
      "source": [
        "Etape 6: selection des donneés features et donneé a predicter:\n",
        "\n",
        "Ici on selectionne les donneés characteristique et les donneés cible que le modéle va predicter.\n",
        "\n",
        "Dans notre modéle, le cible et la colonne \"Prix\" et toute autre colonne sont des characteristiques"
      ],
      "metadata": {
        "id": "UUi29kCCtYsR"
      }
    },
    {
      "cell_type": "code",
      "source": [
        "X = tai_hou.iloc[:,:-1] # On selctionne tout les lignes et tout les colonnes sauf la dérniere pour les characteristiques\n",
        "y = tai_hou.iloc[:,-1] # On selectionne tout les lignes et seulement la dérniére colonne comme la cible"
      ],
      "metadata": {
        "id": "w86pg57xtRaE"
      },
      "execution_count": 17,
      "outputs": []
    },
    {
      "cell_type": "code",
      "source": [
        "X.head() # affichage des charactéristiques"
      ],
      "metadata": {
        "colab": {
          "base_uri": "https://localhost:8080/",
          "height": 206
        },
        "id": "EVHCW60fu5w1",
        "outputId": "11235169-ca5a-439e-b3cd-5ab2f3c3214d"
      },
      "execution_count": 18,
      "outputs": [
        {
          "output_type": "execute_result",
          "data": {
            "text/plain": [
              "    age      metro  epicerie  latitude  longitude\n",
              "0  32.0   84.87882        10       1.0        1.0\n",
              "1  19.5  306.59470         9       1.0        1.0\n",
              "2  13.3  561.98450         5       1.0        1.0\n",
              "3  13.3  561.98450         5       1.0        1.0\n",
              "4   5.0  390.56840         5       1.0        1.0"
            ],
            "text/html": [
              "\n",
              "  <div id=\"df-b0e90bc9-8e4d-4963-a1c4-5498290696a6\">\n",
              "    <div class=\"colab-df-container\">\n",
              "      <div>\n",
              "<style scoped>\n",
              "    .dataframe tbody tr th:only-of-type {\n",
              "        vertical-align: middle;\n",
              "    }\n",
              "\n",
              "    .dataframe tbody tr th {\n",
              "        vertical-align: top;\n",
              "    }\n",
              "\n",
              "    .dataframe thead th {\n",
              "        text-align: right;\n",
              "    }\n",
              "</style>\n",
              "<table border=\"1\" class=\"dataframe\">\n",
              "  <thead>\n",
              "    <tr style=\"text-align: right;\">\n",
              "      <th></th>\n",
              "      <th>age</th>\n",
              "      <th>metro</th>\n",
              "      <th>epicerie</th>\n",
              "      <th>latitude</th>\n",
              "      <th>longitude</th>\n",
              "    </tr>\n",
              "  </thead>\n",
              "  <tbody>\n",
              "    <tr>\n",
              "      <th>0</th>\n",
              "      <td>32.0</td>\n",
              "      <td>84.87882</td>\n",
              "      <td>10</td>\n",
              "      <td>1.0</td>\n",
              "      <td>1.0</td>\n",
              "    </tr>\n",
              "    <tr>\n",
              "      <th>1</th>\n",
              "      <td>19.5</td>\n",
              "      <td>306.59470</td>\n",
              "      <td>9</td>\n",
              "      <td>1.0</td>\n",
              "      <td>1.0</td>\n",
              "    </tr>\n",
              "    <tr>\n",
              "      <th>2</th>\n",
              "      <td>13.3</td>\n",
              "      <td>561.98450</td>\n",
              "      <td>5</td>\n",
              "      <td>1.0</td>\n",
              "      <td>1.0</td>\n",
              "    </tr>\n",
              "    <tr>\n",
              "      <th>3</th>\n",
              "      <td>13.3</td>\n",
              "      <td>561.98450</td>\n",
              "      <td>5</td>\n",
              "      <td>1.0</td>\n",
              "      <td>1.0</td>\n",
              "    </tr>\n",
              "    <tr>\n",
              "      <th>4</th>\n",
              "      <td>5.0</td>\n",
              "      <td>390.56840</td>\n",
              "      <td>5</td>\n",
              "      <td>1.0</td>\n",
              "      <td>1.0</td>\n",
              "    </tr>\n",
              "  </tbody>\n",
              "</table>\n",
              "</div>\n",
              "      <button class=\"colab-df-convert\" onclick=\"convertToInteractive('df-b0e90bc9-8e4d-4963-a1c4-5498290696a6')\"\n",
              "              title=\"Convert this dataframe to an interactive table.\"\n",
              "              style=\"display:none;\">\n",
              "        \n",
              "  <svg xmlns=\"http://www.w3.org/2000/svg\" height=\"24px\"viewBox=\"0 0 24 24\"\n",
              "       width=\"24px\">\n",
              "    <path d=\"M0 0h24v24H0V0z\" fill=\"none\"/>\n",
              "    <path d=\"M18.56 5.44l.94 2.06.94-2.06 2.06-.94-2.06-.94-.94-2.06-.94 2.06-2.06.94zm-11 1L8.5 8.5l.94-2.06 2.06-.94-2.06-.94L8.5 2.5l-.94 2.06-2.06.94zm10 10l.94 2.06.94-2.06 2.06-.94-2.06-.94-.94-2.06-.94 2.06-2.06.94z\"/><path d=\"M17.41 7.96l-1.37-1.37c-.4-.4-.92-.59-1.43-.59-.52 0-1.04.2-1.43.59L10.3 9.45l-7.72 7.72c-.78.78-.78 2.05 0 2.83L4 21.41c.39.39.9.59 1.41.59.51 0 1.02-.2 1.41-.59l7.78-7.78 2.81-2.81c.8-.78.8-2.07 0-2.86zM5.41 20L4 18.59l7.72-7.72 1.47 1.35L5.41 20z\"/>\n",
              "  </svg>\n",
              "      </button>\n",
              "      \n",
              "  <style>\n",
              "    .colab-df-container {\n",
              "      display:flex;\n",
              "      flex-wrap:wrap;\n",
              "      gap: 12px;\n",
              "    }\n",
              "\n",
              "    .colab-df-convert {\n",
              "      background-color: #E8F0FE;\n",
              "      border: none;\n",
              "      border-radius: 50%;\n",
              "      cursor: pointer;\n",
              "      display: none;\n",
              "      fill: #1967D2;\n",
              "      height: 32px;\n",
              "      padding: 0 0 0 0;\n",
              "      width: 32px;\n",
              "    }\n",
              "\n",
              "    .colab-df-convert:hover {\n",
              "      background-color: #E2EBFA;\n",
              "      box-shadow: 0px 1px 2px rgba(60, 64, 67, 0.3), 0px 1px 3px 1px rgba(60, 64, 67, 0.15);\n",
              "      fill: #174EA6;\n",
              "    }\n",
              "\n",
              "    [theme=dark] .colab-df-convert {\n",
              "      background-color: #3B4455;\n",
              "      fill: #D2E3FC;\n",
              "    }\n",
              "\n",
              "    [theme=dark] .colab-df-convert:hover {\n",
              "      background-color: #434B5C;\n",
              "      box-shadow: 0px 1px 3px 1px rgba(0, 0, 0, 0.15);\n",
              "      filter: drop-shadow(0px 1px 2px rgba(0, 0, 0, 0.3));\n",
              "      fill: #FFFFFF;\n",
              "    }\n",
              "  </style>\n",
              "\n",
              "      <script>\n",
              "        const buttonEl =\n",
              "          document.querySelector('#df-b0e90bc9-8e4d-4963-a1c4-5498290696a6 button.colab-df-convert');\n",
              "        buttonEl.style.display =\n",
              "          google.colab.kernel.accessAllowed ? 'block' : 'none';\n",
              "\n",
              "        async function convertToInteractive(key) {\n",
              "          const element = document.querySelector('#df-b0e90bc9-8e4d-4963-a1c4-5498290696a6');\n",
              "          const dataTable =\n",
              "            await google.colab.kernel.invokeFunction('convertToInteractive',\n",
              "                                                     [key], {});\n",
              "          if (!dataTable) return;\n",
              "\n",
              "          const docLinkHtml = 'Like what you see? Visit the ' +\n",
              "            '<a target=\"_blank\" href=https://colab.research.google.com/notebooks/data_table.ipynb>data table notebook</a>'\n",
              "            + ' to learn more about interactive tables.';\n",
              "          element.innerHTML = '';\n",
              "          dataTable['output_type'] = 'display_data';\n",
              "          await google.colab.output.renderOutput(dataTable, element);\n",
              "          const docLink = document.createElement('div');\n",
              "          docLink.innerHTML = docLinkHtml;\n",
              "          element.appendChild(docLink);\n",
              "        }\n",
              "      </script>\n",
              "    </div>\n",
              "  </div>\n",
              "  "
            ]
          },
          "metadata": {},
          "execution_count": 18
        }
      ]
    },
    {
      "cell_type": "code",
      "source": [
        "y.head() # affichage des cibles"
      ],
      "metadata": {
        "colab": {
          "base_uri": "https://localhost:8080/"
        },
        "id": "K5eT5NkxvC_P",
        "outputId": "10f07e04-13a7-4a19-cc82-0fe1543b20d0"
      },
      "execution_count": 19,
      "outputs": [
        {
          "output_type": "execute_result",
          "data": {
            "text/plain": [
              "0    37.9\n",
              "1    42.2\n",
              "2    47.3\n",
              "3    54.8\n",
              "4    43.1\n",
              "Name: prix, dtype: float64"
            ]
          },
          "metadata": {},
          "execution_count": 19
        }
      ]
    },
    {
      "cell_type": "markdown",
      "source": [
        "Etape 7: On devise nos donneé en donneé d'entrainment et donneé de test:\n",
        "\n",
        "Ici on devise nos donneé en donneé d'entrainment que le modéle va étudier avec et des donneés de test qu'on va tester l'efficacité de notre modéle avec."
      ],
      "metadata": {
        "id": "ag-hKc2RusMf"
      }
    },
    {
      "cell_type": "code",
      "source": [
        "X_train,X_test,y_train,y_test = train_test_split(X,y,test_size=0.2)  \n",
        "\n",
        "\n",
        "# On utilise train_test_split pour deviser nos donneé en 4 partie:\n",
        "# \n",
        "# * X_train: ce sont les charactéristiques que le modéle va s'entrainer avec.\n",
        "# * y_train: ce sont les réponces de cible (Prix) que le modéle va comparer au charactéristique (X_train) au cours de l'entrainment.\n",
        "# * X_test: ce sont les charactéristique qu'on va présenter au modéle aprés sont entrainment pour l'evaluer.\n",
        "# * y_test: ce sont les réponces de cible (Prix) des charactéristiques (X_test) qu'on va comparer avec les prédictions fait par le modéle pour mesurer\n",
        "#    sa présision.\n"
      ],
      "metadata": {
        "id": "umUZl72qvGJw"
      },
      "execution_count": 29,
      "outputs": []
    },
    {
      "cell_type": "markdown",
      "source": [
        "Etape 7: Standarisation:\n",
        "\n",
        "Ici on standarise les valeurs qu'on a pour avoir un moyenne de 0 et une déviation de 1 dans chaque sens, c-a-d tout les valeurs vont étre entre -1 et 1 avec le moyenne 0, on fait ca pour mettre tout les valeurs le plus petit que possible car ca facilite l'entrainment du modéle."
      ],
      "metadata": {
        "id": "6T_ZCj-mxyYR"
      }
    },
    {
      "cell_type": "code",
      "source": [
        "sc_X = StandardScaler()  # On creé un object \"Scaler\" avec la fonction \"StandardScaler()\" de library sklearn.preprocessing\n",
        "X_train = sc_X.fit_transform(X_train) # On utilise cet objet pour standariser les valeurs d'entraiment X_train\n",
        "X_test = sc_X.fit_transform(X_test)  # On standarise les valeurs de test aussi"
      ],
      "metadata": {
        "id": "ohvfM1c72lNM"
      },
      "execution_count": 21,
      "outputs": []
    },
    {
      "cell_type": "markdown",
      "source": [
        "Etape 8: **L'ENTRAINMENT DU MODELE**\n",
        "\n",
        "Ici on entraine notre Modéle avec les charactéristiques X_train et cet correspondant cible y_train, le modéle va comparer les valeurs et générer une coefficient pour chaque charactéristique pour déduire le prix!!"
      ],
      "metadata": {
        "id": "3VXREaSZy-gY"
      }
    },
    {
      "cell_type": "code",
      "source": [
        "modele = LinearRegression().fit(X_train,y_train)  # On utilise l'algorithme \"Linear Regression\" pour entrainer notre modéle\n",
        "# On utilise la fonction LinearRegression().fit() de la library sklearn.linear_model"
      ],
      "metadata": {
        "id": "Nfj2WvAI27ZF"
      },
      "execution_count": 22,
      "outputs": []
    },
    {
      "cell_type": "code",
      "source": [
        "print(\"Coefficients : \",modele.coef_) # On empreinte les coefficients générer par le modéle"
      ],
      "metadata": {
        "colab": {
          "base_uri": "https://localhost:8080/"
        },
        "id": "F7nM3F-k3f4R",
        "outputId": "af63ec42-8aec-4f89-93da-6c8a48553266"
      },
      "execution_count": 23,
      "outputs": [
        {
          "output_type": "stream",
          "name": "stdout",
          "text": [
            "Coefficients :  [-3.6919379  -4.73701178  3.48632549  3.13637857  0.98929164]\n"
          ]
        }
      ]
    },
    {
      "cell_type": "markdown",
      "source": [
        "Etape 9: La Prédiction\n",
        "\n",
        "Ici on utilise notre modéle entrainer pour prédicter les valeur des prix dans la partie du test de nos donneés (X_test)"
      ],
      "metadata": {
        "id": "zt2wVTI80N-t"
      }
    },
    {
      "cell_type": "code",
      "source": [
        "y_pred = modele.predict(X_test) # On utilise la fonction predict() avec les donneés X_test pour prédicter les prix et on les sauvegarde dans y_pred"
      ],
      "metadata": {
        "id": "P9LI3yox3lkl"
      },
      "execution_count": 24,
      "outputs": []
    },
    {
      "cell_type": "markdown",
      "source": [
        "Etape 10: Calcule d'erreur\n",
        "\n",
        "Ici on compare les résultat obtenue par le modéle avec les vrais prix pour connaitre le précision de notre modéle.\n",
        "\n",
        "On utilise l'algorithme Mean Squared Error pour avoir l'erreur dans les prédictions de notre modéle, le plus faible l'erreur et mailleur.\n",
        "\n",
        "Aussi on calcule le score R2 du notre modéle, c'est la coefficient de détérmination qui décrit a quelle degré notre modéle prédit bien la variation dans notre cible, elle est entre 0 et 1 avec 1 étant un modéle parfait."
      ],
      "metadata": {
        "id": "7ahqJJLx0yjB"
      }
    },
    {
      "cell_type": "code",
      "source": [
        "print(\"Error: \",mean_squared_error(y_test,y_pred)) # Calcule d'erreur avec la fonction mean_squared_error de la library sklearn.metrics\n",
        "print(\"R2 Score: \",r2_score(y_test,y_pred)) # Calcule de coefficient de détérmination (R2 Score) avec la fonction r2_score de la library sklearn.metrics"
      ],
      "metadata": {
        "colab": {
          "base_uri": "https://localhost:8080/"
        },
        "id": "punTWBPC3vOa",
        "outputId": "5a69c775-cd43-4a09-af54-bb5dc0fe248e"
      },
      "execution_count": 25,
      "outputs": [
        {
          "output_type": "stream",
          "name": "stdout",
          "text": [
            "Error:  60.27210019737884\n",
            "R2 Score:  0.607941066894341\n"
          ]
        }
      ]
    },
    {
      "cell_type": "markdown",
      "source": [
        "Etape 11: Enregistrement du modéle\n",
        "\n",
        "Ici on sauvegarde notre modéle pour l'utilisé ailleur, aussi pour l'utiliser sans le retrainer chaque fois, car l'entrainement du notre modéle prends beaucoup du temps et du resources (depend a l'échelle de nos data)."
      ],
      "metadata": {
        "id": "dS-d7_VF2-Co"
      }
    },
    {
      "cell_type": "code",
      "source": [
        "dump(modele,\"Taiwan_House_Predictions.joblib\") # On utilise la fonction dump() du library joblib pour sauvegarder notre modéle en un fichier .joblib"
      ],
      "metadata": {
        "colab": {
          "base_uri": "https://localhost:8080/"
        },
        "id": "3ddFHatt4IJy",
        "outputId": "b23260d0-81d4-4a96-92c4-1c0300efa52b"
      },
      "execution_count": 26,
      "outputs": [
        {
          "output_type": "execute_result",
          "data": {
            "text/plain": [
              "['Taiwan_House_Predictions.joblib']"
            ]
          },
          "metadata": {},
          "execution_count": 26
        }
      ]
    },
    {
      "cell_type": "markdown",
      "source": [
        "Etape 12: Utilisation de notre modéle\n",
        "\n",
        "La fabrication du modéle est terminer, ici on importe notre modéle depuis le fichier .joblib qu'on a sauvegarder a l'étape précédente pour l'utiliser a prédicter de noveau data!!"
      ],
      "metadata": {
        "id": "4vhi5YGr3tkj"
      }
    },
    {
      "cell_type": "code",
      "source": [
        "modele_use = load(\"Taiwan_House_Predictions.joblib\") # On utilise la fonction load() du library joblib pour charger notre modéle d'une fichier .joblib"
      ],
      "metadata": {
        "id": "pewVm5I64f8O"
      },
      "execution_count": 27,
      "outputs": []
    },
    {
      "cell_type": "code",
      "source": [
        "y_pred2 = modele_use.predict(X_test) # Finallment, on utilise le modéle chargé pour faire de noveau prédiction"
      ],
      "metadata": {
        "id": "-7N0bvkv5WG0"
      },
      "execution_count": 28,
      "outputs": []
    },
    {
      "cell_type": "markdown",
      "source": [
        "#***Fin***. "
      ],
      "metadata": {
        "id": "zEHOlHWa4b3q"
      }
    }
  ]
}